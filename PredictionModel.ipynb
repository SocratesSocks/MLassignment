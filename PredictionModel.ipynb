{
 "cells": [
  {
   "cell_type": "code",
   "execution_count": 0,
   "metadata": {
    "colab": {},
    "colab_type": "code",
    "id": "M-DtLZ8sVQ_m"
   },
   "outputs": [],
   "source": [
    "import pandas as pd\n",
    "from sklearn.model_selection import train_test_split\n",
    "from sklearn.preprocessing import LabelEncoder\n",
    "from sklearn.feature_extraction.text import TfidfVectorizer\n",
    "import numpy as np\n",
    "import xgboost as xgb\n",
    "from sklearn.metrics import accuracy_score\n",
    "from sklearn.metrics import confusion_matrix\n",
    "\n",
    "\n",
    "\n"
   ]
  },
  {
   "cell_type": "code",
   "execution_count": 0,
   "metadata": {
    "colab": {},
    "colab_type": "code",
    "id": "02n6qgTLVy1c"
   },
   "outputs": [],
   "source": [
    "dataset=pd.read_csv('/content/drive/My Drive/train.csv')\n",
    "dataset_target=pd.read_csv('/content/drive/My Drive/test.csv')\n",
    "dataset_target_orginal=pd.read_csv('/content/drive/My Drive/test.csv')\n",
    "\n",
    "\n",
    "mean=dataset['price'].mean()                                 # getting mean of price\n",
    "dataset['price']=dataset['price'].fillna(mean,inplace=True)  # filling NaN price values \n",
    "\n",
    "mean_target=dataset_target['price'].mean()\n",
    "dataset_target['price'].fillna(mean_target,inplace=True)"
   ]
  },
  {
   "cell_type": "code",
   "execution_count": 0,
   "metadata": {
    "colab": {},
    "colab_type": "code",
    "id": "b2rECXE4VhL5"
   },
   "outputs": [],
   "source": [
    "''' Selecting features for model '''\n",
    "''' dataset_target is the output file'''\n",
    "\n",
    "dataset=dataset[['review_title','review_description','points','variety','price']]\n",
    "dataset_target=dataset_target[['review_title','review_description','points','price']]"
   ]
  },
  {
   "cell_type": "code",
   "execution_count": 116,
   "metadata": {
    "colab": {
     "base_uri": "https://localhost:8080/",
     "height": 218
    },
    "colab_type": "code",
    "id": "p2YL1k2lXuYY",
    "outputId": "db1f4ebb-1a6d-4b1e-e68a-c8d373316b7a"
   },
   "outputs": [
    {
     "name": "stdout",
     "output_type": "stream",
     "text": [
      "<class 'pandas.core.frame.DataFrame'>\n",
      "RangeIndex: 82657 entries, 0 to 82656\n",
      "Data columns (total 5 columns):\n",
      " #   Column              Non-Null Count  Dtype \n",
      "---  ------              --------------  ----- \n",
      " 0   review_title        82657 non-null  object\n",
      " 1   review_description  82657 non-null  object\n",
      " 2   points              82657 non-null  int64 \n",
      " 3   variety             82657 non-null  object\n",
      " 4   price               0 non-null      object\n",
      "dtypes: int64(1), object(4)\n",
      "memory usage: 3.2+ MB\n"
     ]
    }
   ],
   "source": [
    "dataset.info()"
   ]
  },
  {
   "cell_type": "code",
   "execution_count": 117,
   "metadata": {
    "colab": {
     "base_uri": "https://localhost:8080/",
     "height": 202
    },
    "colab_type": "code",
    "id": "MmUe5txvXxrL",
    "outputId": "11595146-1b85-41d7-cb94-0f8366c32fe0"
   },
   "outputs": [
    {
     "name": "stdout",
     "output_type": "stream",
     "text": [
      "<class 'pandas.core.frame.DataFrame'>\n",
      "RangeIndex: 20665 entries, 0 to 20664\n",
      "Data columns (total 4 columns):\n",
      " #   Column              Non-Null Count  Dtype  \n",
      "---  ------              --------------  -----  \n",
      " 0   review_title        20665 non-null  object \n",
      " 1   review_description  20665 non-null  object \n",
      " 2   points              20665 non-null  int64  \n",
      " 3   price               20665 non-null  float64\n",
      "dtypes: float64(1), int64(1), object(2)\n",
      "memory usage: 645.9+ KB\n"
     ]
    }
   ],
   "source": [
    "dataset_target.info()"
   ]
  },
  {
   "cell_type": "code",
   "execution_count": 0,
   "metadata": {
    "colab": {},
    "colab_type": "code",
    "id": "kvmCs2o-WDYd"
   },
   "outputs": [],
   "source": [
    "train,test=train_test_split(dataset,test_size=0.2)  # spliting dataset"
   ]
  },
  {
   "cell_type": "code",
   "execution_count": 0,
   "metadata": {
    "colab": {},
    "colab_type": "code",
    "id": "4soGKnGNVs4w"
   },
   "outputs": [],
   "source": [
    "''' Spliting features and labels '''\n",
    "\n",
    "y_train=train['variety']\n",
    "x_train=train[['review_title','review_description','points','price']]\n",
    "\n",
    "y_test=test['variety']\n",
    "x_test=test[['review_title','review_description','points','price']]\n",
    "\n",
    "x_target=dataset_target"
   ]
  },
  {
   "cell_type": "code",
   "execution_count": 0,
   "metadata": {
    "colab": {},
    "colab_type": "code",
    "id": "WMww0LzOV-WM"
   },
   "outputs": [],
   "source": [
    "'''Encoding variety column '''\n",
    "label_encoder=LabelEncoder()\n",
    "y_train_encoded=label_encoder.fit_transform(y_train)  \n",
    "y_test_encoded=label_encoder.transform(y_test)  # only fit to prevent data leakage\n",
    "\n",
    "mappings=label_encoder.classes_   # mappings from encoded labels to orginal values"
   ]
  },
  {
   "cell_type": "code",
   "execution_count": 0,
   "metadata": {
    "colab": {},
    "colab_type": "code",
    "id": "TJTr6cPFWOVJ"
   },
   "outputs": [],
   "source": [
    "''' TfidfVectorizer for feature extraction from text data '''\n",
    "\n",
    "review_desc_feature_count=100\n",
    "review_title_feature_count=50\n",
    "\n",
    "tfidf1 = TfidfVectorizer(\n",
    "    min_df=5, max_features=review_desc_feature_count, strip_accents='unicode',lowercase =True,    ## TfidfVectorizer for feature extraction from review description\n",
    "    analyzer='word', token_pattern=r'\\w+', use_idf=True, \n",
    "    smooth_idf=True, sublinear_tf=True, stop_words = 'english')\n",
    "\n",
    "\n",
    "tfidf2 = TfidfVectorizer(\n",
    "    min_df=5, max_features=review_title_feature_count, strip_accents='unicode',lowercase =True,    ## TfidfVectorizer for feature extraction from review title\n",
    "    analyzer='word', token_pattern=r'\\w+', use_idf=True, \n",
    "    smooth_idf=True, sublinear_tf=True, stop_words = 'english')\n",
    "\n",
    "\n",
    "tfidf_desc=tfidf1.fit(x_train['review_description'])   # tfidf_desc for description \n",
    "\n",
    "\n",
    "tfidf_title=tfidf2.fit(x_train['review_title'])        #tfidf_title for title"
   ]
  },
  {
   "cell_type": "code",
   "execution_count": 122,
   "metadata": {
    "colab": {
     "base_uri": "https://localhost:8080/",
     "height": 54
    },
    "colab_type": "code",
    "id": "2eeqWeD6f7iD",
    "outputId": "91920f8b-7aba-42c8-9e2a-b27005ea89c1"
   },
   "outputs": [
    {
     "name": "stdout",
     "output_type": "stream",
     "text": [
      "['acidity', 'age', 'aging', 'apple', 'aromas', 'balance', 'balanced', 'berry', 'bit', 'black', 'blackberry', 'blend', 'bodied', 'bright', 'cabernet', 'character', 'chardonnay', 'cherry', 'chocolate', 'citrus', 'clean', 'concentrated', 'crisp', 'currant', 'dark', 'delicious', 'dense', 'dried', 'drink', 'dry', 'earthy', 'fine', 'finish', 'firm', 'flavor', 'flavors', 'fresh', 'fruit', 'fruits', 'fruity', 'good', 'green', 'herb', 'herbal', 'hint', 'juicy', 'just', 'lemon', 'licorice', 'light', 'like', 'lime', 'long', 'medium', 'merlot', 'mineral', 'mouth', 'nose', 'note', 'notes', 'oak', 'offers', 'orange', 'palate', 'peach', 'pear', 'pepper', 'pinot', 'plum', 'raspberry', 'ready', 'red', 'rich', 'ripe', 's', 'sauvignon', 'shows', 'smooth', 'soft', 'spice', 'spicy', 'structure', 'structured', 'style', 'sweet', 'syrah', 'tannic', 'tannins', 'tart', 'texture', 'tight', 'toast', 'tobacco', 'touch', 'vanilla', 'vineyard', 'white', 'wine', 'wood', 'years']\n"
     ]
    }
   ],
   "source": [
    "print(tfidf_desc.get_feature_names())  ### N features extracted from descrtition "
   ]
  },
  {
   "cell_type": "code",
   "execution_count": 123,
   "metadata": {
    "colab": {
     "base_uri": "https://localhost:8080/",
     "height": 54
    },
    "colab_type": "code",
    "id": "P0GPQ1aPglde",
    "outputId": "0fea3d90-1c12-4fa6-9c2f-e66a65feaecc"
   },
   "outputs": [
    {
     "name": "stdout",
     "output_type": "stream",
     "text": [
      "['2005', '2006', '2007', '2008', '2009', '2010', '2011', '2012', '2013', '2014', '2015', '2016', 'blanc', 'brut', 'cabernet', 'california', 'chardonnay', 'chateau', 'coast', 'columbia', 'county', 'di', 'domaine', 'estate', 'hills', 'la', 'malbec', 'merlot', 'napa', 'noir', 'nv', 'pinot', 'red', 'reserva', 'reserve', 'riesling', 'river', 'rose', 'russian', 's', 'santa', 'sauvignon', 'sonoma', 'syrah', 'valley', 'vineyard', 'vineyards', 'wa', 'white', 'zinfandel']\n"
     ]
    }
   ],
   "source": [
    "print(tfidf_title.get_feature_names())   ### N features extracted from title "
   ]
  },
  {
   "cell_type": "code",
   "execution_count": 0,
   "metadata": {
    "colab": {},
    "colab_type": "code",
    "id": "GiVtik8rWU8m"
   },
   "outputs": [],
   "source": [
    "x_tifd_desc_train = tfidf_desc.transform(x_train['review_description'])   \n",
    "x_tifd_desc_test = tfidf_desc.transform(x_test['review_description'])\n",
    "x_tifd_desc_target = tfidf_desc.transform(x_target['review_description'])\n",
    "\n",
    "x_tifd_title_train = tfidf_title.transform(x_train['review_title'])\n",
    "x_tifd_title_test = tfidf_title.transform(x_test['review_title'])\n",
    "x_tifd_title_target = tfidf_title.transform(x_target['review_title'])"
   ]
  },
  {
   "cell_type": "code",
   "execution_count": 0,
   "metadata": {
    "colab": {},
    "colab_type": "code",
    "id": "2CnTl9-qWqYN"
   },
   "outputs": [],
   "source": [
    "rows_train=x_train.shape[0]\n",
    "rows_test=x_test.shape[0]\n",
    "rows_target=x_target.shape[0]\n"
   ]
  },
  {
   "cell_type": "code",
   "execution_count": 0,
   "metadata": {
    "colab": {},
    "colab_type": "code",
    "id": "Cp0_tDeuW2px"
   },
   "outputs": [],
   "source": [
    "'''' combining all feature columns for training data '''\n",
    "x_train_processed=np.hstack((x_tifd_desc_train.toarray(),np.array(x_train['price']).reshape(rows_train,1)))\n",
    "x_train_processed=np.hstack((x_train_processed,np.array(x_train['price']).reshape(rows_train,1)))\n",
    "x_train_processed=np.hstack((x_train_processed,x_tifd_title_train.toarray()))\n"
   ]
  },
  {
   "cell_type": "code",
   "execution_count": 0,
   "metadata": {
    "colab": {},
    "colab_type": "code",
    "id": "EXgxVL1DYoun"
   },
   "outputs": [],
   "source": [
    "'''' combining all feature columns for testing data '''\n",
    "\n",
    "x_test_processed=np.hstack((x_tifd_desc_test.toarray(),np.array(x_test['price']).reshape(rows_test,1)))\n",
    "x_test_processed=np.hstack((x_test_processed,np.array(x_test['price']).reshape(rows_test,1)))\n",
    "x_test_processed=np.hstack((x_test_processed,x_tifd_title_test.toarray()))"
   ]
  },
  {
   "cell_type": "code",
   "execution_count": 0,
   "metadata": {
    "colab": {},
    "colab_type": "code",
    "id": "u4mjuoeaYt5s"
   },
   "outputs": [],
   "source": [
    "'''' combining all feature columns for target data '''\n",
    "\n",
    "x_target_processed=np.hstack((x_tifd_desc_target.toarray(),np.array(x_target['price']).reshape(rows_target,1)))\n",
    "x_target_processed=np.hstack((x_target_processed,np.array(x_target['price']).reshape(rows_target,1)))\n",
    "x_target_processed=np.hstack((x_target_processed,x_tifd_title_target.toarray()))"
   ]
  },
  {
   "cell_type": "code",
   "execution_count": 129,
   "metadata": {
    "colab": {
     "base_uri": "https://localhost:8080/",
     "height": 134
    },
    "colab_type": "code",
    "id": "MdDVfoJxZFw8",
    "outputId": "8a5f7ead-a79b-4ce3-b765-885bf585a8e1"
   },
   "outputs": [
    {
     "data": {
      "text/plain": [
       "XGBClassifier(base_score=0.5, booster='gbtree', colsample_bylevel=1,\n",
       "              colsample_bynode=1, colsample_bytree=1, gamma=0,\n",
       "              learning_rate=0.1, max_delta_step=0, max_depth=3,\n",
       "              min_child_weight=1, missing=None, n_estimators=150, n_jobs=-1,\n",
       "              nthread=None, objective='multi:softprob', random_state=0,\n",
       "              reg_alpha=0, reg_lambda=1, scale_pos_weight=1, seed=None,\n",
       "              silent=None, subsample=1, verbosity=1)"
      ]
     },
     "execution_count": 129,
     "metadata": {
      "tags": []
     },
     "output_type": "execute_result"
    }
   ],
   "source": [
    "''' creating a classifier and fitting it '''\n",
    "\n",
    "clf = xgb.XGBClassifier(max_depth=3, n_estimators=150, learning_rate=0.1,n_jobs=-1)\n",
    "clf.fit(x_train_processed, y_train_encoded)"
   ]
  },
  {
   "cell_type": "code",
   "execution_count": 0,
   "metadata": {
    "colab": {},
    "colab_type": "code",
    "id": "-9M3UbRmZVZh"
   },
   "outputs": [],
   "source": [
    "''' getting predictions for test data '''\n",
    "y_pred_test=clf.predict(x_test_processed)\n",
    "accuracy = accuracy_score(y_pred_test, y_test_encoded)"
   ]
  },
  {
   "cell_type": "code",
   "execution_count": 131,
   "metadata": {
    "colab": {
     "base_uri": "https://localhost:8080/",
     "height": 34
    },
    "colab_type": "code",
    "id": "fGoRoTiGZeok",
    "outputId": "17487b68-ab72-462e-b7b0-64ea420db4f3"
   },
   "outputs": [
    {
     "data": {
      "text/plain": [
       "0.8859787079603194"
      ]
     },
     "execution_count": 131,
     "metadata": {
      "tags": []
     },
     "output_type": "execute_result"
    }
   ],
   "source": [
    "accuracy  ### priting accuracy "
   ]
  },
  {
   "cell_type": "code",
   "execution_count": 133,
   "metadata": {
    "colab": {
     "base_uri": "https://localhost:8080/",
     "height": 282
    },
    "colab_type": "code",
    "id": "3k2xdEVDZgB4",
    "outputId": "b4dd0cbb-ddd6-4c99-a4aa-ddb3a1d0658b"
   },
   "outputs": [
    {
     "data": {
      "text/plain": [
       "<matplotlib.image.AxesImage at 0x7f89fd562ef0>"
      ]
     },
     "execution_count": 133,
     "metadata": {
      "tags": []
     },
     "output_type": "execute_result"
    },
    {
     "data": {
      "image/png": "[encoded data removed]",
      "text/plain": [
       "<Figure size 432x288 with 1 Axes>"
      ]
     },
     "metadata": {
      "needs_background": "light",
      "tags": []
     },
     "output_type": "display_data"
    }
   ],
   "source": [
    "''' Visualizing performance using Confusion matrix'''\n",
    "\n",
    "result=confusion_matrix(y_test_encoded,y_pred_test) \n",
    "import matplotlib.pyplot as plt\n",
    "plt.imshow(result)"
   ]
  },
  {
   "cell_type": "code",
   "execution_count": 0,
   "metadata": {
    "colab": {},
    "colab_type": "code",
    "id": "LO7cd5YMa7qy"
   },
   "outputs": [],
   "source": [
    "'''Getting predictions for target dataset '''\n",
    "y_pred_target=clf.predict(x_target_processed)"
   ]
  },
  {
   "cell_type": "code",
   "execution_count": 0,
   "metadata": {
    "colab": {},
    "colab_type": "code",
    "id": "fX-B9ebhbG6J"
   },
   "outputs": [],
   "source": [
    "''' coverting predictions to actuall labels'''\n",
    "prediction_labels_target=[]\n",
    "for ele in y_pred_target:\n",
    "      prediction_labels_target.append(mappings[ele])"
   ]
  },
  {
   "cell_type": "code",
   "execution_count": 0,
   "metadata": {
    "colab": {},
    "colab_type": "code",
    "id": "vMZ6HA_5beZL"
   },
   "outputs": [],
   "source": [
    "''' adding the variety column to target dataset '''\n",
    "dataset_target_orginal['variety']=prediction_labels_target"
   ]
  },
  {
   "cell_type": "code",
   "execution_count": 0,
   "metadata": {
    "colab": {},
    "colab_type": "code",
    "id": "QpP90JGjckSk"
   },
   "outputs": [],
   "source": [
    "dataset_target_orginal.to_csv('/content/drive/My Drive/test_predicted.csv',index=False,header=True)   ## Writing to target file"
   ]
  },
  {
   "cell_type": "code",
   "execution_count": 0,
   "metadata": {
    "colab": {},
    "colab_type": "code",
    "id": "CyMfPMkPdwNI"
   },
   "outputs": [],
   "source": []
  }
 ],
 "metadata": {
  "colab": {
   "collapsed_sections": [],
   "name": "PredictionModel.ipynb",
   "provenance": []
  },
  "kernelspec": {
   "display_name": "Python 3",
   "language": "python",
   "name": "python3"
  },
  "language_info": {
   "codemirror_mode": {
    "name": "ipython",
    "version": 3
   },
   "file_extension": ".py",
   "mimetype": "text/x-python",
   "name": "python",
   "nbconvert_exporter": "python",
   "pygments_lexer": "ipython3",
   "version": "3.7.4"
  }
 },
 "nbformat": 4,
 "nbformat_minor": 1
}
